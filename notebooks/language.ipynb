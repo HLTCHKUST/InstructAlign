{
 "cells": [
  {
   "cell_type": "markdown",
   "metadata": {},
   "source": [
    "# LM Language Metadata Visualization\n",
    "- We generate the language mapping from ISO 639-1 to ISO 639-3 by scrapping `https://en.wikipedia.org/wiki/List_of_ISO_639-2_codes`, for empty ISO 693-3 code, we use the ISO 693-2 code instead\n",
    "- We also generate CC language data statistics from `https://commoncrawl.github.io/cc-crawl-statistics/plots/languages` with the latest dump on the version `2013-14`\n",
    "- For other language source, i.e., xP3, ROOTS, mC4, and LLaMA collection, the data is manually collected from the corresponding paper"
   ]
  },
  {
   "cell_type": "code",
   "execution_count": 1,
   "metadata": {},
   "outputs": [],
   "source": [
    "import glob\n",
    "import numpy as np\n",
    "import pandas as pd\n",
    "import matplotlib.pyplot as plt\n",
    "import seaborn as sns\n",
    "\n",
    "import lang2vec.lang2vec as l2v\n",
    "import umap"
   ]
  },
  {
   "cell_type": "markdown",
   "metadata": {},
   "source": [
    "### Language Metadata from Wiki"
   ]
  },
  {
   "cell_type": "code",
   "execution_count": 2,
   "metadata": {},
   "outputs": [],
   "source": [
    "meta_df = pd.read_html('https://en.wikipedia.org/wiki/List_of_ISO_639-2_codes')[0]\n",
    "meta_df.columns = ['639-2', '639-3', '639-5', '639-1', 'lang_name', 'scope', 'type', 'native_name', 'other_name']"
   ]
  },
  {
   "cell_type": "code",
   "execution_count": 3,
   "metadata": {},
   "outputs": [],
   "source": [
    "meta_df.loc[pd.isna(meta_df['639-3']), '639-3'] = meta_df.loc[pd.isna(meta_df['639-3']), '639-2'].reset_index(drop=True)"
   ]
  },
  {
   "cell_type": "code",
   "execution_count": 4,
   "metadata": {},
   "outputs": [
    {
     "data": {
      "text/html": [
       "<div>\n",
       "<style scoped>\n",
       "    .dataframe tbody tr th:only-of-type {\n",
       "        vertical-align: middle;\n",
       "    }\n",
       "\n",
       "    .dataframe tbody tr th {\n",
       "        vertical-align: top;\n",
       "    }\n",
       "\n",
       "    .dataframe thead th {\n",
       "        text-align: right;\n",
       "    }\n",
       "</style>\n",
       "<table border=\"1\" class=\"dataframe\">\n",
       "  <thead>\n",
       "    <tr style=\"text-align: right;\">\n",
       "      <th></th>\n",
       "      <th>639-1</th>\n",
       "      <th>639-3</th>\n",
       "      <th>lang_name</th>\n",
       "      <th>native_name</th>\n",
       "      <th>other_name</th>\n",
       "      <th>scope</th>\n",
       "      <th>type</th>\n",
       "    </tr>\n",
       "  </thead>\n",
       "  <tbody>\n",
       "    <tr>\n",
       "      <th>0</th>\n",
       "      <td>aa</td>\n",
       "      <td>aar</td>\n",
       "      <td>Afar</td>\n",
       "      <td>Qafaraf; ’Afar Af; Afaraf; Qafar af</td>\n",
       "      <td>NaN</td>\n",
       "      <td>Individual</td>\n",
       "      <td>Living</td>\n",
       "    </tr>\n",
       "    <tr>\n",
       "      <th>1</th>\n",
       "      <td>ab</td>\n",
       "      <td>abk</td>\n",
       "      <td>Abkhazian</td>\n",
       "      <td>Аҧсуа бызшәа Aƥsua bızšwa; Аҧсшәа Aƥsua</td>\n",
       "      <td>Abkhaz</td>\n",
       "      <td>Individual</td>\n",
       "      <td>Living</td>\n",
       "    </tr>\n",
       "    <tr>\n",
       "      <th>2</th>\n",
       "      <td>NaN</td>\n",
       "      <td>ace</td>\n",
       "      <td>Achinese</td>\n",
       "      <td>بهسا اچيه</td>\n",
       "      <td>Acehnese</td>\n",
       "      <td>Individual</td>\n",
       "      <td>Living</td>\n",
       "    </tr>\n",
       "    <tr>\n",
       "      <th>3</th>\n",
       "      <td>NaN</td>\n",
       "      <td>ach</td>\n",
       "      <td>Acoli</td>\n",
       "      <td>Lwo</td>\n",
       "      <td>Acholi</td>\n",
       "      <td>Individual</td>\n",
       "      <td>Living</td>\n",
       "    </tr>\n",
       "    <tr>\n",
       "      <th>4</th>\n",
       "      <td>NaN</td>\n",
       "      <td>ada</td>\n",
       "      <td>Adangme</td>\n",
       "      <td>Dangme</td>\n",
       "      <td>Dangme</td>\n",
       "      <td>Individual</td>\n",
       "      <td>Living</td>\n",
       "    </tr>\n",
       "    <tr>\n",
       "      <th>...</th>\n",
       "      <td>...</td>\n",
       "      <td>...</td>\n",
       "      <td>...</td>\n",
       "      <td>...</td>\n",
       "      <td>...</td>\n",
       "      <td>...</td>\n",
       "      <td>...</td>\n",
       "    </tr>\n",
       "    <tr>\n",
       "      <th>482</th>\n",
       "      <td>NaN</td>\n",
       "      <td>NaN</td>\n",
       "      <td>Zande languages</td>\n",
       "      <td>NaN</td>\n",
       "      <td>NaN</td>\n",
       "      <td>Collective</td>\n",
       "      <td>NaN</td>\n",
       "    </tr>\n",
       "    <tr>\n",
       "      <th>483</th>\n",
       "      <td>zu</td>\n",
       "      <td>zul</td>\n",
       "      <td>Zulu</td>\n",
       "      <td>isiZulu</td>\n",
       "      <td>NaN</td>\n",
       "      <td>Individual</td>\n",
       "      <td>Living</td>\n",
       "    </tr>\n",
       "    <tr>\n",
       "      <th>484</th>\n",
       "      <td>NaN</td>\n",
       "      <td>zun</td>\n",
       "      <td>Zuni</td>\n",
       "      <td>Shiwi'ma</td>\n",
       "      <td>NaN</td>\n",
       "      <td>Individual</td>\n",
       "      <td>Living</td>\n",
       "    </tr>\n",
       "    <tr>\n",
       "      <th>485</th>\n",
       "      <td>NaN</td>\n",
       "      <td>zxx</td>\n",
       "      <td>No linguistic content; Not applicable</td>\n",
       "      <td>NaN</td>\n",
       "      <td>NaN</td>\n",
       "      <td>Special</td>\n",
       "      <td>NaN</td>\n",
       "    </tr>\n",
       "    <tr>\n",
       "      <th>486</th>\n",
       "      <td>NaN</td>\n",
       "      <td>zza</td>\n",
       "      <td>Zaza; Dimili; Dimli; Kirdki; Kirmanjki; Zazaki</td>\n",
       "      <td>kirmanckî; dimilkî; kirdkî; zazakî</td>\n",
       "      <td>NaN</td>\n",
       "      <td>Macrolanguage</td>\n",
       "      <td>Living</td>\n",
       "    </tr>\n",
       "  </tbody>\n",
       "</table>\n",
       "<p>487 rows × 7 columns</p>\n",
       "</div>"
      ],
      "text/plain": [
       "    639-1 639-3                                       lang_name  \\\n",
       "0      aa   aar                                            Afar   \n",
       "1      ab   abk                                       Abkhazian   \n",
       "2     NaN   ace                                        Achinese   \n",
       "3     NaN   ach                                           Acoli   \n",
       "4     NaN   ada                                         Adangme   \n",
       "..    ...   ...                                             ...   \n",
       "482   NaN   NaN                                 Zande languages   \n",
       "483    zu   zul                                            Zulu   \n",
       "484   NaN   zun                                            Zuni   \n",
       "485   NaN   zxx           No linguistic content; Not applicable   \n",
       "486   NaN   zza  Zaza; Dimili; Dimli; Kirdki; Kirmanjki; Zazaki   \n",
       "\n",
       "                                 native_name other_name          scope    type  \n",
       "0        Qafaraf; ’Afar Af; Afaraf; Qafar af        NaN     Individual  Living  \n",
       "1    Аҧсуа бызшәа Aƥsua bızšwa; Аҧсшәа Aƥsua     Abkhaz     Individual  Living  \n",
       "2                                  بهسا اچيه   Acehnese     Individual  Living  \n",
       "3                                        Lwo     Acholi     Individual  Living  \n",
       "4                                     Dangme     Dangme     Individual  Living  \n",
       "..                                       ...        ...            ...     ...  \n",
       "482                                      NaN        NaN     Collective     NaN  \n",
       "483                                  isiZulu        NaN     Individual  Living  \n",
       "484                                 Shiwi'ma        NaN     Individual  Living  \n",
       "485                                      NaN        NaN        Special     NaN  \n",
       "486       kirmanckî; dimilkî; kirdkî; zazakî        NaN  Macrolanguage  Living  \n",
       "\n",
       "[487 rows x 7 columns]"
      ]
     },
     "execution_count": 4,
     "metadata": {},
     "output_type": "execute_result"
    }
   ],
   "source": [
    "meta_df[['639-1', '639-3', 'lang_name', 'native_name', 'other_name', 'scope', 'type']]"
   ]
  },
  {
   "cell_type": "markdown",
   "metadata": {
    "tags": []
   },
   "source": [
    "### CC Language Source"
   ]
  },
  {
   "cell_type": "code",
   "execution_count": 5,
   "metadata": {},
   "outputs": [],
   "source": [
    "cc_df = pd.read_html('https://commoncrawl.github.io/cc-crawl-statistics/plots/languages')[0]"
   ]
  },
  {
   "cell_type": "code",
   "execution_count": 6,
   "metadata": {},
   "outputs": [],
   "source": [
    "cc_df.columns = ['Lang Code', cc_df.columns[1][0], cc_df.columns[2][0], cc_df.columns[3][0]]"
   ]
  },
  {
   "cell_type": "code",
   "execution_count": 7,
   "metadata": {},
   "outputs": [],
   "source": [
    "# Gathered manually from https://iso639-3.sil.org/code_tables/639/data\n",
    "cc_unk_lang_map = {\n",
    "    'bih': 'Bihari languages',\n",
    "    'crs': 'Seselwa Creole French',\n",
    "    'lif': 'Limbu',\n",
    "    'mfe': 'Morisyen',\n",
    "    '<unknown>': '<unknown>'\n",
    "}"
   ]
  },
  {
   "cell_type": "code",
   "execution_count": 8,
   "metadata": {},
   "outputs": [],
   "source": [
    "cc_df['Lang Name'] = cc_df['Lang Code'].apply(\n",
    "    lambda x: meta_df.loc[meta_df['639-3'] == x, 'lang_name'].values[0] if x in meta_df['639-3'].values else cc_unk_lang_map[x]\n",
    ")\n",
    "cc_df.loc[cc_df['Lang Code'] == '<unknown>', 'Lang Code'] = 'zxx'\n",
    "cc_df['Source'] = 'commoncrawl'\n",
    "cc_df = cc_df[['Lang Code', 'Lang Name', 'Source']]"
   ]
  },
  {
   "cell_type": "markdown",
   "metadata": {},
   "source": [
    "# Normalized Other Language Source"
   ]
  },
  {
   "cell_type": "code",
   "execution_count": 9,
   "metadata": {},
   "outputs": [],
   "source": [
    "dfs = [cc_df]\n",
    "for path in glob.glob('language_source/*.csv'):\n",
    "    df = pd.read_csv(path)\n",
    "    df['Lang Code'] = df['Lang Code'].apply(\n",
    "        lambda x: meta_df.loc[meta_df['639-1'] == x, '639-3'].values[0] if x in meta_df['639-1'].values else x\n",
    "    )\n",
    "    df['Source'] = path.split('/')[-1].split('_lang')[0]\n",
    "    dfs.append(df)\n",
    "df = pd.concat(dfs)"
   ]
  },
  {
   "cell_type": "code",
   "execution_count": 10,
   "metadata": {},
   "outputs": [
    {
     "data": {
      "text/html": [
       "<div>\n",
       "<style scoped>\n",
       "    .dataframe tbody tr th:only-of-type {\n",
       "        vertical-align: middle;\n",
       "    }\n",
       "\n",
       "    .dataframe tbody tr th {\n",
       "        vertical-align: top;\n",
       "    }\n",
       "\n",
       "    .dataframe thead th {\n",
       "        text-align: right;\n",
       "    }\n",
       "</style>\n",
       "<table border=\"1\" class=\"dataframe\">\n",
       "  <thead>\n",
       "    <tr style=\"text-align: right;\">\n",
       "      <th></th>\n",
       "      <th>Lang Code</th>\n",
       "      <th>Lang Name</th>\n",
       "      <th>Source</th>\n",
       "    </tr>\n",
       "  </thead>\n",
       "  <tbody>\n",
       "    <tr>\n",
       "      <th>0</th>\n",
       "      <td>zxx</td>\n",
       "      <td>&lt;unknown&gt;</td>\n",
       "      <td>commoncrawl</td>\n",
       "    </tr>\n",
       "    <tr>\n",
       "      <th>1</th>\n",
       "      <td>aar</td>\n",
       "      <td>Afar</td>\n",
       "      <td>commoncrawl</td>\n",
       "    </tr>\n",
       "    <tr>\n",
       "      <th>2</th>\n",
       "      <td>abk</td>\n",
       "      <td>Abkhazian</td>\n",
       "      <td>commoncrawl</td>\n",
       "    </tr>\n",
       "    <tr>\n",
       "      <th>3</th>\n",
       "      <td>afr</td>\n",
       "      <td>Afrikaans</td>\n",
       "      <td>commoncrawl</td>\n",
       "    </tr>\n",
       "    <tr>\n",
       "      <th>4</th>\n",
       "      <td>aka</td>\n",
       "      <td>Akan</td>\n",
       "      <td>commoncrawl</td>\n",
       "    </tr>\n",
       "    <tr>\n",
       "      <th>...</th>\n",
       "      <td>...</td>\n",
       "      <td>...</td>\n",
       "      <td>...</td>\n",
       "    </tr>\n",
       "    <tr>\n",
       "      <th>15</th>\n",
       "      <td>rus</td>\n",
       "      <td>Russian</td>\n",
       "      <td>llama_collection</td>\n",
       "    </tr>\n",
       "    <tr>\n",
       "      <th>16</th>\n",
       "      <td>slv</td>\n",
       "      <td>Slovenian</td>\n",
       "      <td>llama_collection</td>\n",
       "    </tr>\n",
       "    <tr>\n",
       "      <th>17</th>\n",
       "      <td>srp</td>\n",
       "      <td>Serbian</td>\n",
       "      <td>llama_collection</td>\n",
       "    </tr>\n",
       "    <tr>\n",
       "      <th>18</th>\n",
       "      <td>swe</td>\n",
       "      <td>Swedish</td>\n",
       "      <td>llama_collection</td>\n",
       "    </tr>\n",
       "    <tr>\n",
       "      <th>19</th>\n",
       "      <td>ukr</td>\n",
       "      <td>Ukrainian</td>\n",
       "      <td>llama_collection</td>\n",
       "    </tr>\n",
       "  </tbody>\n",
       "</table>\n",
       "<p>382 rows × 3 columns</p>\n",
       "</div>"
      ],
      "text/plain": [
       "   Lang Code  Lang Name            Source\n",
       "0        zxx  <unknown>       commoncrawl\n",
       "1        aar       Afar       commoncrawl\n",
       "2        abk  Abkhazian       commoncrawl\n",
       "3        afr  Afrikaans       commoncrawl\n",
       "4        aka       Akan       commoncrawl\n",
       "..       ...        ...               ...\n",
       "15       rus    Russian  llama_collection\n",
       "16       slv  Slovenian  llama_collection\n",
       "17       srp    Serbian  llama_collection\n",
       "18       swe    Swedish  llama_collection\n",
       "19       ukr  Ukrainian  llama_collection\n",
       "\n",
       "[382 rows x 3 columns]"
      ]
     },
     "execution_count": 10,
     "metadata": {},
     "output_type": "execute_result"
    }
   ],
   "source": [
    "df"
   ]
  },
  {
   "cell_type": "code",
   "execution_count": 11,
   "metadata": {},
   "outputs": [],
   "source": [
    "unique_lang_code = df['Lang Code'].unique()"
   ]
  },
  {
   "cell_type": "markdown",
   "metadata": {
    "tags": []
   },
   "source": [
    "### Retrieve Features from URIEL"
   ]
  },
  {
   "cell_type": "code",
   "execution_count": 12,
   "metadata": {},
   "outputs": [
    {
     "name": "stdout",
     "output_type": "stream",
     "text": [
      "(4005, 4120)\n",
      "CPU times: user 1min 2s, sys: 1.18 s, total: 1min 3s\n",
      "Wall time: 1min 3s\n"
     ]
    }
   ],
   "source": [
    "%%time\n",
    "# features = [\n",
    "#     'syntax_wals', 'syntax_sswl', 'syntax_ethnologue', 'syntax_knn', 'syntax_average', \n",
    "#     'phonology_wals', 'phonology_average', 'phonology_ethnologue', 'fam', 'geo'\n",
    "# ]\n",
    "\n",
    "# features = ['syntax_average',  'phonology_average', 'fam', 'geo']\n",
    "features = ['syntax_average', 'fam', 'geo']\n",
    "# features = ['fam']\n",
    "lang_feats = {lang: [] for lang in list(l2v.LANGUAGES)}\n",
    "\n",
    "for feat in features:\n",
    "    feats = l2v.get_features(list(l2v.LANGUAGES), feat)\n",
    "    for lang in lang_feats.keys():\n",
    "        lang_feats[lang] += feats[lang]\n",
    "\n",
    "fdf = pd.DataFrame(lang_feats)\n",
    "fdf[fdf == '--'] = np.nan # Replace '--' column with NaN\n",
    "fdf = fdf.fillna(0).T # Replace NaN with 0\n",
    "fdf = fdf.sort_index()\n",
    "print(fdf.shape)"
   ]
  },
  {
   "cell_type": "code",
   "execution_count": 13,
   "metadata": {},
   "outputs": [
    {
     "name": "stdout",
     "output_type": "stream",
     "text": [
      "CPU times: user 3min 34s, sys: 5.69 s, total: 3min 40s\n",
      "Wall time: 36.9 s\n"
     ]
    }
   ],
   "source": [
    "%%time\n",
    "umap_mdl = umap.UMAP(low_memory=False)\n",
    "proj_values = umap_mdl.fit_transform(fdf.values)\n",
    "fdf['pc1'], fdf['pc2'] = proj_values[:,0], proj_values[:,1]"
   ]
  },
  {
   "cell_type": "code",
   "execution_count": 14,
   "metadata": {},
   "outputs": [
    {
     "data": {
      "text/html": [
       "<div>\n",
       "<style scoped>\n",
       "    .dataframe tbody tr th:only-of-type {\n",
       "        vertical-align: middle;\n",
       "    }\n",
       "\n",
       "    .dataframe tbody tr th {\n",
       "        vertical-align: top;\n",
       "    }\n",
       "\n",
       "    .dataframe thead th {\n",
       "        text-align: right;\n",
       "    }\n",
       "</style>\n",
       "<table border=\"1\" class=\"dataframe\">\n",
       "  <thead>\n",
       "    <tr style=\"text-align: right;\">\n",
       "      <th></th>\n",
       "      <th>0</th>\n",
       "      <th>1</th>\n",
       "      <th>2</th>\n",
       "      <th>3</th>\n",
       "      <th>4</th>\n",
       "      <th>5</th>\n",
       "      <th>6</th>\n",
       "      <th>7</th>\n",
       "      <th>8</th>\n",
       "      <th>9</th>\n",
       "      <th>...</th>\n",
       "      <th>4112</th>\n",
       "      <th>4113</th>\n",
       "      <th>4114</th>\n",
       "      <th>4115</th>\n",
       "      <th>4116</th>\n",
       "      <th>4117</th>\n",
       "      <th>4118</th>\n",
       "      <th>4119</th>\n",
       "      <th>pc1</th>\n",
       "      <th>pc2</th>\n",
       "    </tr>\n",
       "  </thead>\n",
       "  <tbody>\n",
       "    <tr>\n",
       "      <th>aaa</th>\n",
       "      <td>0.0</td>\n",
       "      <td>0.0</td>\n",
       "      <td>0.0</td>\n",
       "      <td>0.0</td>\n",
       "      <td>0.0</td>\n",
       "      <td>0.0</td>\n",
       "      <td>0.0</td>\n",
       "      <td>0.0</td>\n",
       "      <td>0.0</td>\n",
       "      <td>0.0</td>\n",
       "      <td>...</td>\n",
       "      <td>0.3679</td>\n",
       "      <td>0.5430</td>\n",
       "      <td>0.4293</td>\n",
       "      <td>0.4373</td>\n",
       "      <td>0.5168</td>\n",
       "      <td>0.4100</td>\n",
       "      <td>0.4808</td>\n",
       "      <td>0.4605</td>\n",
       "      <td>9.045267</td>\n",
       "      <td>15.604736</td>\n",
       "    </tr>\n",
       "    <tr>\n",
       "      <th>aab</th>\n",
       "      <td>0.0</td>\n",
       "      <td>0.0</td>\n",
       "      <td>0.0</td>\n",
       "      <td>0.0</td>\n",
       "      <td>0.0</td>\n",
       "      <td>0.0</td>\n",
       "      <td>0.0</td>\n",
       "      <td>0.0</td>\n",
       "      <td>0.0</td>\n",
       "      <td>0.0</td>\n",
       "      <td>...</td>\n",
       "      <td>0.3590</td>\n",
       "      <td>0.5341</td>\n",
       "      <td>0.4157</td>\n",
       "      <td>0.4302</td>\n",
       "      <td>0.5049</td>\n",
       "      <td>0.3989</td>\n",
       "      <td>0.4717</td>\n",
       "      <td>0.4499</td>\n",
       "      <td>9.227167</td>\n",
       "      <td>15.997808</td>\n",
       "    </tr>\n",
       "    <tr>\n",
       "      <th>aac</th>\n",
       "      <td>0.0</td>\n",
       "      <td>0.0</td>\n",
       "      <td>0.0</td>\n",
       "      <td>0.0</td>\n",
       "      <td>0.0</td>\n",
       "      <td>0.0</td>\n",
       "      <td>0.0</td>\n",
       "      <td>0.0</td>\n",
       "      <td>0.0</td>\n",
       "      <td>0.0</td>\n",
       "      <td>...</td>\n",
       "      <td>0.6319</td>\n",
       "      <td>0.5089</td>\n",
       "      <td>0.5145</td>\n",
       "      <td>0.6094</td>\n",
       "      <td>0.4826</td>\n",
       "      <td>0.5715</td>\n",
       "      <td>0.5505</td>\n",
       "      <td>0.5442</td>\n",
       "      <td>-0.157560</td>\n",
       "      <td>-6.879316</td>\n",
       "    </tr>\n",
       "    <tr>\n",
       "      <th>aad</th>\n",
       "      <td>0.0</td>\n",
       "      <td>0.0</td>\n",
       "      <td>0.0</td>\n",
       "      <td>0.0</td>\n",
       "      <td>0.0</td>\n",
       "      <td>0.0</td>\n",
       "      <td>0.0</td>\n",
       "      <td>0.0</td>\n",
       "      <td>0.0</td>\n",
       "      <td>0.0</td>\n",
       "      <td>...</td>\n",
       "      <td>0.6101</td>\n",
       "      <td>0.4885</td>\n",
       "      <td>0.4929</td>\n",
       "      <td>0.5881</td>\n",
       "      <td>0.4610</td>\n",
       "      <td>0.5496</td>\n",
       "      <td>0.5291</td>\n",
       "      <td>0.5225</td>\n",
       "      <td>-0.653633</td>\n",
       "      <td>-6.863320</td>\n",
       "    </tr>\n",
       "    <tr>\n",
       "      <th>aae</th>\n",
       "      <td>0.0</td>\n",
       "      <td>0.0</td>\n",
       "      <td>0.0</td>\n",
       "      <td>0.0</td>\n",
       "      <td>0.0</td>\n",
       "      <td>0.0</td>\n",
       "      <td>0.0</td>\n",
       "      <td>0.0</td>\n",
       "      <td>0.0</td>\n",
       "      <td>0.0</td>\n",
       "      <td>...</td>\n",
       "      <td>0.2024</td>\n",
       "      <td>0.3722</td>\n",
       "      <td>0.2447</td>\n",
       "      <td>0.2799</td>\n",
       "      <td>0.3352</td>\n",
       "      <td>0.2318</td>\n",
       "      <td>0.3102</td>\n",
       "      <td>0.2838</td>\n",
       "      <td>7.151989</td>\n",
       "      <td>7.749585</td>\n",
       "    </tr>\n",
       "    <tr>\n",
       "      <th>...</th>\n",
       "      <td>...</td>\n",
       "      <td>...</td>\n",
       "      <td>...</td>\n",
       "      <td>...</td>\n",
       "      <td>...</td>\n",
       "      <td>...</td>\n",
       "      <td>...</td>\n",
       "      <td>...</td>\n",
       "      <td>...</td>\n",
       "      <td>...</td>\n",
       "      <td>...</td>\n",
       "      <td>...</td>\n",
       "      <td>...</td>\n",
       "      <td>...</td>\n",
       "      <td>...</td>\n",
       "      <td>...</td>\n",
       "      <td>...</td>\n",
       "      <td>...</td>\n",
       "      <td>...</td>\n",
       "      <td>...</td>\n",
       "      <td>...</td>\n",
       "    </tr>\n",
       "    <tr>\n",
       "      <th>ztu</th>\n",
       "      <td>0.0</td>\n",
       "      <td>0.0</td>\n",
       "      <td>1.0</td>\n",
       "      <td>0.0</td>\n",
       "      <td>0.0</td>\n",
       "      <td>0.0</td>\n",
       "      <td>0.0</td>\n",
       "      <td>1.0</td>\n",
       "      <td>1.0</td>\n",
       "      <td>0.0</td>\n",
       "      <td>...</td>\n",
       "      <td>0.4010</td>\n",
       "      <td>0.3553</td>\n",
       "      <td>0.4874</td>\n",
       "      <td>0.3443</td>\n",
       "      <td>0.4253</td>\n",
       "      <td>0.4305</td>\n",
       "      <td>0.3719</td>\n",
       "      <td>0.4062</td>\n",
       "      <td>13.255445</td>\n",
       "      <td>-5.222830</td>\n",
       "    </tr>\n",
       "    <tr>\n",
       "      <th>zty</th>\n",
       "      <td>0.0</td>\n",
       "      <td>0.0</td>\n",
       "      <td>0.0</td>\n",
       "      <td>0.0</td>\n",
       "      <td>0.0</td>\n",
       "      <td>0.0</td>\n",
       "      <td>0.0</td>\n",
       "      <td>0.0</td>\n",
       "      <td>0.0</td>\n",
       "      <td>0.0</td>\n",
       "      <td>...</td>\n",
       "      <td>0.3984</td>\n",
       "      <td>0.3535</td>\n",
       "      <td>0.4851</td>\n",
       "      <td>0.3419</td>\n",
       "      <td>0.4234</td>\n",
       "      <td>0.4281</td>\n",
       "      <td>0.3697</td>\n",
       "      <td>0.4040</td>\n",
       "      <td>13.352789</td>\n",
       "      <td>-5.479901</td>\n",
       "    </tr>\n",
       "    <tr>\n",
       "      <th>zul</th>\n",
       "      <td>1.0</td>\n",
       "      <td>0.0</td>\n",
       "      <td>0.0</td>\n",
       "      <td>0.0</td>\n",
       "      <td>0.0</td>\n",
       "      <td>0.0</td>\n",
       "      <td>1.0</td>\n",
       "      <td>0.5</td>\n",
       "      <td>1.0</td>\n",
       "      <td>0.0</td>\n",
       "      <td>...</td>\n",
       "      <td>0.5673</td>\n",
       "      <td>0.7312</td>\n",
       "      <td>0.5770</td>\n",
       "      <td>0.6445</td>\n",
       "      <td>0.6763</td>\n",
       "      <td>0.5895</td>\n",
       "      <td>0.6719</td>\n",
       "      <td>0.6407</td>\n",
       "      <td>6.030100</td>\n",
       "      <td>17.236689</td>\n",
       "    </tr>\n",
       "    <tr>\n",
       "      <th>zun</th>\n",
       "      <td>0.0</td>\n",
       "      <td>1.0</td>\n",
       "      <td>0.0</td>\n",
       "      <td>0.0</td>\n",
       "      <td>0.0</td>\n",
       "      <td>0.0</td>\n",
       "      <td>1.0</td>\n",
       "      <td>0.0</td>\n",
       "      <td>0.0</td>\n",
       "      <td>1.0</td>\n",
       "      <td>...</td>\n",
       "      <td>0.3264</td>\n",
       "      <td>0.2423</td>\n",
       "      <td>0.3881</td>\n",
       "      <td>0.2560</td>\n",
       "      <td>0.3138</td>\n",
       "      <td>0.3399</td>\n",
       "      <td>0.2691</td>\n",
       "      <td>0.3055</td>\n",
       "      <td>11.584819</td>\n",
       "      <td>-2.138388</td>\n",
       "    </tr>\n",
       "    <tr>\n",
       "      <th>zyp</th>\n",
       "      <td>0.0</td>\n",
       "      <td>0.0</td>\n",
       "      <td>0.0</td>\n",
       "      <td>0.0</td>\n",
       "      <td>0.0</td>\n",
       "      <td>0.0</td>\n",
       "      <td>0.0</td>\n",
       "      <td>0.0</td>\n",
       "      <td>0.0</td>\n",
       "      <td>0.0</td>\n",
       "      <td>...</td>\n",
       "      <td>0.4062</td>\n",
       "      <td>0.4195</td>\n",
       "      <td>0.2983</td>\n",
       "      <td>0.4437</td>\n",
       "      <td>0.3497</td>\n",
       "      <td>0.3614</td>\n",
       "      <td>0.4068</td>\n",
       "      <td>0.3749</td>\n",
       "      <td>2.812023</td>\n",
       "      <td>4.218001</td>\n",
       "    </tr>\n",
       "  </tbody>\n",
       "</table>\n",
       "<p>4005 rows × 4122 columns</p>\n",
       "</div>"
      ],
      "text/plain": [
       "       0    1    2    3    4    5    6    7    8    9  ...    4112    4113  \\\n",
       "aaa  0.0  0.0  0.0  0.0  0.0  0.0  0.0  0.0  0.0  0.0  ...  0.3679  0.5430   \n",
       "aab  0.0  0.0  0.0  0.0  0.0  0.0  0.0  0.0  0.0  0.0  ...  0.3590  0.5341   \n",
       "aac  0.0  0.0  0.0  0.0  0.0  0.0  0.0  0.0  0.0  0.0  ...  0.6319  0.5089   \n",
       "aad  0.0  0.0  0.0  0.0  0.0  0.0  0.0  0.0  0.0  0.0  ...  0.6101  0.4885   \n",
       "aae  0.0  0.0  0.0  0.0  0.0  0.0  0.0  0.0  0.0  0.0  ...  0.2024  0.3722   \n",
       "..   ...  ...  ...  ...  ...  ...  ...  ...  ...  ...  ...     ...     ...   \n",
       "ztu  0.0  0.0  1.0  0.0  0.0  0.0  0.0  1.0  1.0  0.0  ...  0.4010  0.3553   \n",
       "zty  0.0  0.0  0.0  0.0  0.0  0.0  0.0  0.0  0.0  0.0  ...  0.3984  0.3535   \n",
       "zul  1.0  0.0  0.0  0.0  0.0  0.0  1.0  0.5  1.0  0.0  ...  0.5673  0.7312   \n",
       "zun  0.0  1.0  0.0  0.0  0.0  0.0  1.0  0.0  0.0  1.0  ...  0.3264  0.2423   \n",
       "zyp  0.0  0.0  0.0  0.0  0.0  0.0  0.0  0.0  0.0  0.0  ...  0.4062  0.4195   \n",
       "\n",
       "       4114    4115    4116    4117    4118    4119        pc1        pc2  \n",
       "aaa  0.4293  0.4373  0.5168  0.4100  0.4808  0.4605   9.045267  15.604736  \n",
       "aab  0.4157  0.4302  0.5049  0.3989  0.4717  0.4499   9.227167  15.997808  \n",
       "aac  0.5145  0.6094  0.4826  0.5715  0.5505  0.5442  -0.157560  -6.879316  \n",
       "aad  0.4929  0.5881  0.4610  0.5496  0.5291  0.5225  -0.653633  -6.863320  \n",
       "aae  0.2447  0.2799  0.3352  0.2318  0.3102  0.2838   7.151989   7.749585  \n",
       "..      ...     ...     ...     ...     ...     ...        ...        ...  \n",
       "ztu  0.4874  0.3443  0.4253  0.4305  0.3719  0.4062  13.255445  -5.222830  \n",
       "zty  0.4851  0.3419  0.4234  0.4281  0.3697  0.4040  13.352789  -5.479901  \n",
       "zul  0.5770  0.6445  0.6763  0.5895  0.6719  0.6407   6.030100  17.236689  \n",
       "zun  0.3881  0.2560  0.3138  0.3399  0.2691  0.3055  11.584819  -2.138388  \n",
       "zyp  0.2983  0.4437  0.3497  0.3614  0.4068  0.3749   2.812023   4.218001  \n",
       "\n",
       "[4005 rows x 4122 columns]"
      ]
     },
     "execution_count": 14,
     "metadata": {},
     "output_type": "execute_result"
    }
   ],
   "source": [
    "fdf"
   ]
  },
  {
   "cell_type": "code",
   "execution_count": 15,
   "metadata": {},
   "outputs": [],
   "source": [
    "fdf['category'] = fdf.index.isin(unique_lang_code)\n",
    "fdf['category'] = fdf['category'].apply(lambda x: 'Supported' if x else 'Not Supported')"
   ]
  },
  {
   "cell_type": "code",
   "execution_count": 16,
   "metadata": {},
   "outputs": [
    {
     "name": "stdout",
     "output_type": "stream",
     "text": [
      "CPU times: user 873 ms, sys: 128 ms, total: 1 s\n",
      "Wall time: 744 ms\n"
     ]
    },
    {
     "data": {
      "image/png": "[encoded data removed]",
      "text/plain": [
       "<Figure size 1200x800 with 1 Axes>"
      ]
     },
     "metadata": {},
     "output_type": "display_data"
    }
   ],
   "source": [
    "%%time\n",
    "sns.set(rc={'figure.figsize':(12,8)})\n",
    "\n",
    "cw_palette = sns.color_palette(\"coolwarm_r\")\n",
    "render_palette = sns.color_palette([cw_palette[1], cw_palette[-1]])\n",
    "sns.scatterplot(fdf.sort_values('category'), x='pc1', y='pc2', hue='category', palette=render_palette, s=80)\n",
    "\n",
    "def label_point(xs, ys, vals, ax):\n",
    "    np.random.seed(512)\n",
    "    for x, y, val in zip(xs, ys, vals):\n",
    "        if val == '':\n",
    "            continue\n",
    "\n",
    "        if val == 'fra':\n",
    "            ax.text(x + 0.15, y + 0.3, str(val), color='#0d0d0d', fontsize=16)\n",
    "        elif val == 'eng':\n",
    "            ax.text(x - 0.15, y - 0.2, str(val), color='#0d0d0d', fontsize=16)\n",
    "        elif val == 'vie':\n",
    "            ax.text(x - 0.15, y - 0.3, str(val), color='#0d0d0d', fontsize=16)\n",
    "        else:\n",
    "            ax.text(x, y, str(val), color='#0d0d0d', fontsize=16)\n",
    "\n",
    "lang_filter = [\n",
    "    'eng', 'slo', 'jap', 'zho', 'ind', 'vie', 'aka', 'mya', 'tgk', 'jav',\n",
    "    'haw', 'nau', 'bis', 'chr', 'hat', 'aym', 'bam', 'aar', 'fas', \n",
    "    'yid', 'ceb', 'heb', 'hin', 'zul', 'fra', 'tur', 'epo', 'mal', 'lin',\n",
    "]\n",
    "\n",
    "lang_list = list(fdf.index)\n",
    "filt_lang_list = [lang if lang in lang_filter else '' for lang in lang_list]\n",
    "label_point(fdf['pc1'], fdf['pc2'], filt_lang_list, plt.gca())\n",
    "plt.xlabel('')\n",
    "plt.ylabel('')\n",
    "plt.yticks(fontsize=16)\n",
    "plt.xticks(fontsize=16)\n",
    "plt.legend(fontsize=22)\n",
    "plt.savefig('LM-supported.png', bbox_inches='tight')"
   ]
  },
  {
   "cell_type": "markdown",
   "metadata": {},
   "source": [
    "### Visualize Language Family "
   ]
  },
  {
   "cell_type": "code",
   "execution_count": 17,
   "metadata": {},
   "outputs": [],
   "source": [
    "fam_feats = np.load('family_features.npz')\n",
    "# lang_fams = [\n",
    "#     'Atlantic-Congo', 'Austronesian', 'Indo-European', 'Sino-Tibetan', 'Bookkeeping', 'Afro-Asiatic',\n",
    "#     'Pama-Nyungan', 'Sign Language', 'Otomanguean', 'Austroasiatic', 'Tai-Kadai', 'Dravidian', \n",
    "#     'Guinea', 'Arawakan', 'Mande', 'Tupian', 'Nilo-Saharan', 'Eastern Sudanic', 'Turkic'\n",
    "# ]\n",
    "# f_lang_fams = list(map(lambda l: f'F_{l}', lang_fams))\n",
    "\n",
    "idx2fam = {}\n",
    "for i, feat in enumerate(fam_feats['feats']):\n",
    "    idx2fam[i] = feat"
   ]
  },
  {
   "cell_type": "code",
   "execution_count": 18,
   "metadata": {},
   "outputs": [
    {
     "name": "stdout",
     "output_type": "stream",
     "text": [
      "(4005, 3718)\n",
      "CPU times: user 17.4 s, sys: 636 ms, total: 18.1 s\n",
      "Wall time: 18.1 s\n"
     ]
    }
   ],
   "source": [
    "%%time\n",
    "fam_data = {lang: [] for lang in list(l2v.LANGUAGES)}\n",
    "l2v_fam_feats = l2v.get_features(list(l2v.LANGUAGES), 'fam')\n",
    "for lang in fam_data.keys():\n",
    "    fam_data[lang] = np.array(l2v_fam_feats[lang])[list(idx2fam.keys())]\n",
    "\n",
    "fam_df = pd.DataFrame(fam_data)\n",
    "fam_df[fam_df == '--'] = np.nan # Replace '--' column with NaN\n",
    "fam_df = fam_df.fillna(0).T # Replace NaN with 0\n",
    "fam_df = fam_df.sort_index()\n",
    "print(fam_df.shape)"
   ]
  },
  {
   "cell_type": "code",
   "execution_count": 19,
   "metadata": {},
   "outputs": [
    {
     "data": {
      "text/plain": [
       "index    F_AustronesianF_Nuclear AustronesianF_Malayo-P...\n",
       "0                                                  21773.0\n",
       "dtype: object"
      ]
     },
     "execution_count": 19,
     "metadata": {},
     "output_type": "execute_result"
    }
   ],
   "source": [
    "fam_df.columns = idx2fam.values()\n",
    "fam_count_df = fam_df.sum().reset_index()\n",
    "fam_count_df.sum()"
   ]
  },
  {
   "cell_type": "code",
   "execution_count": 20,
   "metadata": {},
   "outputs": [],
   "source": [
    "lang_fam_priority = fam_count_df.sort_values(0, ascending=False)['index'].tolist()\n",
    "lang_idx_priority = fam_count_df.sort_values(0, ascending=False).index.tolist()"
   ]
  },
  {
   "cell_type": "code",
   "execution_count": 21,
   "metadata": {},
   "outputs": [
    {
     "name": "stdout",
     "output_type": "stream",
     "text": [
      "CPU times: user 302 ms, sys: 0 ns, total: 302 ms\n",
      "Wall time: 301 ms\n"
     ]
    }
   ],
   "source": [
    "%%time\n",
    "lang_family_map = {'lang': [], 'fam': []}\n",
    "for lang in l2v_fam_feats.keys():\n",
    "    feats = l2v_fam_feats[lang]\n",
    "    for idx, fam in zip(lang_idx_priority, lang_fam_priority):\n",
    "        if feats[idx] > 0:\n",
    "            lang_family_map['lang'].append(lang)\n",
    "            lang_family_map['fam'].append(fam)\n",
    "            break"
   ]
  },
  {
   "cell_type": "code",
   "execution_count": 22,
   "metadata": {},
   "outputs": [],
   "source": [
    "cdf = pd.DataFrame({'count': lang_family_map['fam']}).groupby('count').size().sort_values(ascending=False)"
   ]
  },
  {
   "cell_type": "code",
   "execution_count": 23,
   "metadata": {},
   "outputs": [
    {
     "data": {
      "text/plain": [
       "((7,), 2204)"
      ]
     },
     "execution_count": 23,
     "metadata": {},
     "output_type": "execute_result"
    }
   ],
   "source": [
    "cdf[cdf > 100].shape, cdf[cdf > 100].sum()"
   ]
  },
  {
   "cell_type": "code",
   "execution_count": 24,
   "metadata": {},
   "outputs": [
    {
     "data": {
      "text/plain": [
       "((37,), 984)"
      ]
     },
     "execution_count": 24,
     "metadata": {},
     "output_type": "execute_result"
    }
   ],
   "source": [
    "cdf[(cdf >= 10) & (cdf < 100)].shape, cdf[(cdf >= 10) & (cdf < 100)].sum()"
   ]
  },
  {
   "cell_type": "code",
   "execution_count": 25,
   "metadata": {},
   "outputs": [
    {
     "data": {
      "text/plain": [
       "((175,), 543)"
      ]
     },
     "execution_count": 25,
     "metadata": {},
     "output_type": "execute_result"
    }
   ],
   "source": [
    "cdf[cdf < 10].shape, cdf[cdf < 10].sum()"
   ]
  },
  {
   "cell_type": "code",
   "execution_count": 157,
   "metadata": {},
   "outputs": [],
   "source": [
    "more40_fams = cdf[(cdf >= 40)].index.tolist()\n",
    "less40_fams = cdf[(cdf >= 10) & (cdf < 40)].index.tolist()\n",
    "less10_fams = cdf[(cdf < 10)].index.tolist()"
   ]
  },
  {
   "cell_type": "code",
   "execution_count": 158,
   "metadata": {},
   "outputs": [],
   "source": [
    "def group_family(fam):\n",
    "    # if fam in more40_fams:\n",
    "    #     return fam\n",
    "    # elif fam in less40_fams:\n",
    "    #     return 'F_Others'\n",
    "    if fam in less10_fams:\n",
    "        return 'F_Others'\n",
    "    elif fam[2:] in ['Afro-Asiatic', 'Abkhaz-Adyge', 'Indo-European', 'Atlantic-Congo',\n",
    "       'Aymara', 'Turkic', 'Mande', 'Sino-Tibetan', 'Austronesian',\n",
    "       'Iroquoian', 'Artificial Language', 'Uralic', 'Japonic',\n",
    "       'Eskimo-Aleut', 'Dravidian', 'Kartvelian', 'Austroasiatic',\n",
    "       'Koreanic', 'Tai-Kadai']:\n",
    "        return fam\n",
    "    else:\n",
    "        return 'F_Others'\n",
    "\n",
    "ldf = pd.DataFrame(lang_family_map)\n",
    "ldf['fam_group'] = ldf['fam'].apply(group_family)\n",
    "ldf = ldf.set_index('lang')"
   ]
  },
  {
   "cell_type": "code",
   "execution_count": 159,
   "metadata": {},
   "outputs": [],
   "source": [
    "lf_df = fdf.merge(ldf, left_index=True, right_index=True)"
   ]
  },
  {
   "cell_type": "code",
   "execution_count": 180,
   "metadata": {},
   "outputs": [],
   "source": [
    "lf_df[['pc1', 'pc2', 'category', 'fam', 'fam_group']].to_csv('raw_language_family_data.csv')"
   ]
  },
  {
   "cell_type": "code",
   "execution_count": 160,
   "metadata": {
    "tags": []
   },
   "outputs": [
    {
     "name": "stderr",
     "output_type": "stream",
     "text": [
      "/tmp/ipykernel_12001/594715099.py:20: UserWarning:\n",
      "\n",
      "Ignoring `palette` because no `hue` variable has been assigned.\n",
      "\n",
      "/tmp/ipykernel_12001/594715099.py:21: UserWarning:\n",
      "\n",
      "Ignoring `palette` because no `hue` variable has been assigned.\n",
      "\n"
     ]
    },
    {
     "data": {
      "image/png": "[encoded data removed]",
      "text/plain": [
       "<Figure size 1200x800 with 1 Axes>"
      ]
     },
     "metadata": {},
     "output_type": "display_data"
    }
   ],
   "source": [
    "plf_df = lf_df.copy()\n",
    "plf_df['fam_group'] = plf_df['fam_group'].apply(lambda x: x[2:])\n",
    "\n",
    "def label_point(xs, ys, vals, ax):\n",
    "    np.random.seed(512)\n",
    "    for x, y, val in zip(xs, ys, vals):\n",
    "        if val == '':\n",
    "            continue\n",
    "\n",
    "        if val == 'fra':\n",
    "            ax.text(x + 0.15, y + 0.3, str(val), color='#0d0d0d', fontsize=16)\n",
    "        elif val == 'eng':\n",
    "            ax.text(x - 0.15, y - 0.2, str(val), color='#0d0d0d', fontsize=16)\n",
    "        elif val == 'vie':\n",
    "            ax.text(x - 0.15, y - 0.3, str(val), color='#0d0d0d', fontsize=16)\n",
    "        else:\n",
    "            ax.text(x, y, str(val), color='#0d0d0d', fontsize=16)\n",
    "            \n",
    "# for fam_group in lf_df['fam_group'].unique():\n",
    "sns.kdeplot(plf_df.loc[plf_df['fam_group'] != 'Indo-European'], x='pc1', y='pc2', palette=\"Blues\", fill=True, levels=20)\n",
    "sns.kdeplot(plf_df.loc[plf_df['fam_group'] == 'Indo-European'], x='pc1', y='pc2', palette=\"Reds\", fill=True, levels=20)\n",
    "\n",
    "plf_df['ie?'] = plf_df['fam_group'].apply(lambda x: 'Indo-European' if x == 'Indo-European' else 'Others')\n",
    "sns.scatterplot(plf_df.loc[plf_df['category'] == 'Supported'], x='pc1', y='pc2', hue=\"ie?\", palette='viridis', s=80)\n",
    "\n",
    "# lang_filter = list(fdf.loc[fdf['category'] == 'Supported',:].index)\n",
    "\n",
    "plt.xlabel('')\n",
    "plt.ylabel('')\n",
    "plt.yticks(fontsize=16)\n",
    "plt.xticks(fontsize=16)\n",
    "# plt.legend(fontsize=22)\n",
    "# plt.xlim((-9, 18))\n",
    "# plt.ylim((-8, 20))\n",
    "\n",
    "lang_list = list(fdf.index)\n",
    "filt_lang_list = [lang if lang in lang_filter else '' for lang in lang_list]\n",
    "# label_point(fdf['pc1'], fdf['pc2'], filt_lang_list, plt.gca())"
   ]
  },
  {
   "cell_type": "code",
   "execution_count": 161,
   "metadata": {},
   "outputs": [],
   "source": [
    "fc_df = plf_df.groupby(['fam_group', 'category']).size().reset_index()\n",
    "sfc_df = fc_df.groupby('fam_group')[0].sum().reset_index()\n",
    "sfc_df.columns = ['fam_group', 'sum']\n",
    "fc_df = fc_df.merge(sfc_df, on='fam_group')\n",
    "fc_df['percent'] = fc_df[0] / fc_df['sum']"
   ]
  },
  {
   "cell_type": "code",
   "execution_count": 167,
   "metadata": {},
   "outputs": [
    {
     "data": {
      "text/html": [
       "<div>\n",
       "<style scoped>\n",
       "    .dataframe tbody tr th:only-of-type {\n",
       "        vertical-align: middle;\n",
       "    }\n",
       "\n",
       "    .dataframe tbody tr th {\n",
       "        vertical-align: top;\n",
       "    }\n",
       "\n",
       "    .dataframe thead th {\n",
       "        text-align: right;\n",
       "    }\n",
       "</style>\n",
       "<table border=\"1\" class=\"dataframe\">\n",
       "  <thead>\n",
       "    <tr style=\"text-align: right;\">\n",
       "      <th></th>\n",
       "      <th>fam_group</th>\n",
       "      <th>category</th>\n",
       "      <th>0</th>\n",
       "      <th>sum</th>\n",
       "      <th>percent</th>\n",
       "    </tr>\n",
       "  </thead>\n",
       "  <tbody>\n",
       "    <tr>\n",
       "      <th>13</th>\n",
       "      <td>Indo-European</td>\n",
       "      <td>Supported</td>\n",
       "      <td>65</td>\n",
       "      <td>272</td>\n",
       "      <td>0.238971</td>\n",
       "    </tr>\n",
       "    <tr>\n",
       "      <th>23</th>\n",
       "      <td>Turkic</td>\n",
       "      <td>Supported</td>\n",
       "      <td>7</td>\n",
       "      <td>35</td>\n",
       "      <td>0.200000</td>\n",
       "    </tr>\n",
       "    <tr>\n",
       "      <th>25</th>\n",
       "      <td>Uralic</td>\n",
       "      <td>Supported</td>\n",
       "      <td>3</td>\n",
       "      <td>25</td>\n",
       "      <td>0.120000</td>\n",
       "    </tr>\n",
       "    <tr>\n",
       "      <th>9</th>\n",
       "      <td>Dravidian</td>\n",
       "      <td>Supported</td>\n",
       "      <td>4</td>\n",
       "      <td>38</td>\n",
       "      <td>0.105263</td>\n",
       "    </tr>\n",
       "    <tr>\n",
       "      <th>11</th>\n",
       "      <td>Eskimo-Aleut</td>\n",
       "      <td>Supported</td>\n",
       "      <td>1</td>\n",
       "      <td>11</td>\n",
       "      <td>0.090909</td>\n",
       "    </tr>\n",
       "    <tr>\n",
       "      <th>21</th>\n",
       "      <td>Tai-Kadai</td>\n",
       "      <td>Supported</td>\n",
       "      <td>2</td>\n",
       "      <td>27</td>\n",
       "      <td>0.074074</td>\n",
       "    </tr>\n",
       "    <tr>\n",
       "      <th>5</th>\n",
       "      <td>Austroasiatic</td>\n",
       "      <td>Supported</td>\n",
       "      <td>3</td>\n",
       "      <td>66</td>\n",
       "      <td>0.045455</td>\n",
       "    </tr>\n",
       "    <tr>\n",
       "      <th>1</th>\n",
       "      <td>Afro-Asiatic</td>\n",
       "      <td>Supported</td>\n",
       "      <td>7</td>\n",
       "      <td>186</td>\n",
       "      <td>0.037634</td>\n",
       "    </tr>\n",
       "    <tr>\n",
       "      <th>3</th>\n",
       "      <td>Atlantic-Congo</td>\n",
       "      <td>Supported</td>\n",
       "      <td>21</td>\n",
       "      <td>671</td>\n",
       "      <td>0.031297</td>\n",
       "    </tr>\n",
       "    <tr>\n",
       "      <th>7</th>\n",
       "      <td>Austronesian</td>\n",
       "      <td>Supported</td>\n",
       "      <td>14</td>\n",
       "      <td>604</td>\n",
       "      <td>0.023179</td>\n",
       "    </tr>\n",
       "    <tr>\n",
       "      <th>15</th>\n",
       "      <td>Mande</td>\n",
       "      <td>Supported</td>\n",
       "      <td>1</td>\n",
       "      <td>44</td>\n",
       "      <td>0.022727</td>\n",
       "    </tr>\n",
       "    <tr>\n",
       "      <th>19</th>\n",
       "      <td>Sino-Tibetan</td>\n",
       "      <td>Supported</td>\n",
       "      <td>4</td>\n",
       "      <td>203</td>\n",
       "      <td>0.019704</td>\n",
       "    </tr>\n",
       "    <tr>\n",
       "      <th>17</th>\n",
       "      <td>Others</td>\n",
       "      <td>Supported</td>\n",
       "      <td>7</td>\n",
       "      <td>1649</td>\n",
       "      <td>0.004245</td>\n",
       "    </tr>\n",
       "  </tbody>\n",
       "</table>\n",
       "</div>"
      ],
      "text/plain": [
       "         fam_group   category   0   sum   percent\n",
       "13   Indo-European  Supported  65   272  0.238971\n",
       "23          Turkic  Supported   7    35  0.200000\n",
       "25          Uralic  Supported   3    25  0.120000\n",
       "9        Dravidian  Supported   4    38  0.105263\n",
       "11    Eskimo-Aleut  Supported   1    11  0.090909\n",
       "21       Tai-Kadai  Supported   2    27  0.074074\n",
       "5    Austroasiatic  Supported   3    66  0.045455\n",
       "1     Afro-Asiatic  Supported   7   186  0.037634\n",
       "3   Atlantic-Congo  Supported  21   671  0.031297\n",
       "7     Austronesian  Supported  14   604  0.023179\n",
       "15           Mande  Supported   1    44  0.022727\n",
       "19    Sino-Tibetan  Supported   4   203  0.019704\n",
       "17          Others  Supported   7  1649  0.004245"
      ]
     },
     "execution_count": 167,
     "metadata": {},
     "output_type": "execute_result"
    }
   ],
   "source": [
    "fc_df.loc[fc_df['category'] == 'Supported',:].sort_values('percent', ascending=False)"
   ]
  },
  {
   "cell_type": "code",
   "execution_count": 168,
   "metadata": {},
   "outputs": [],
   "source": [
    "fam_order = {\n",
    "    'Indo-European': 0,\n",
    "    'Turkic': 1,\n",
    "    'Uralic': 2,\n",
    "    'Dravidian': 3,\n",
    "    'Eskimo-Aleut': 4,\n",
    "    'Tai-Kadai': 5,\n",
    "    'Austroasiatic': 6,\n",
    "    'Afro-Asiatic': 7,\n",
    "    'Atlantic-Congo': 8,\n",
    "    'Austronesian': 9,\n",
    "    'Mande': 10,\n",
    "    'Sino-Tibetan': 11,\n",
    "    'Others': 12\n",
    "}\n",
    "fc_df['fam_order'] = fc_df['fam_group'].apply(lambda x: fam_order[x])"
   ]
  },
  {
   "cell_type": "code",
   "execution_count": 171,
   "metadata": {},
   "outputs": [],
   "source": [
    "fc_df['text'] = fc_df.apply(lambda x: f'{x[0]} ({x[\"percent\"] * 100:.2f}%)' if x['category'] != 'Supported' else f'{x[0]}', axis='columns')"
   ]
  },
  {
   "cell_type": "code",
   "execution_count": 172,
   "metadata": {},
   "outputs": [
    {
     "data": {
      "application/vnd.plotly.v1+json": {
       "config": {
        "plotlyServerURL": "https://plot.ly"
       },
       "data": [
        {
         "alignmentgroup": "True",
         "hovertemplate": "category=Not Supported<br>percent=%{x}<br>fam_group=%{y}<br>text=%{text}<extra></extra>",
         "legendgroup": "Not Supported",
         "marker": {
          "color": "#636efa",
          "pattern": {
           "shape": ""
          }
         },
         "name": "Not Supported",
         "offsetgroup": "Not Supported",
         "orientation": "h",
         "showlegend": true,
         "text": [
          "1642 (99.58%)",
          "199 (98.03%)",
          "43 (97.73%)",
          "590 (97.68%)",
          "650 (96.87%)",
          "179 (96.24%)",
          "63 (95.45%)",
          "25 (92.59%)",
          "10 (90.91%)",
          "34 (89.47%)",
          "22 (88.00%)",
          "28 (80.00%)",
          "207 (76.10%)"
         ],
         "textposition": "auto",
         "type": "bar",
         "x": [
          0.9957550030321407,
          0.9802955665024631,
          0.9772727272727273,
          0.9768211920529801,
          0.9687034277198212,
          0.9623655913978495,
          0.9545454545454546,
          0.9259259259259259,
          0.9090909090909091,
          0.8947368421052632,
          0.88,
          0.8,
          0.7610294117647058
         ],
         "xaxis": "x",
         "y": [
          "Others",
          "Sino-Tibetan",
          "Mande",
          "Austronesian",
          "Atlantic-Congo",
          "Afro-Asiatic",
          "Austroasiatic",
          "Tai-Kadai",
          "Eskimo-Aleut",
          "Dravidian",
          "Uralic",
          "Turkic",
          "Indo-European"
         ],
         "yaxis": "y"
        },
        {
         "alignmentgroup": "True",
         "hovertemplate": "category=Supported<br>percent=%{x}<br>fam_group=%{y}<br>text=%{text}<extra></extra>",
         "legendgroup": "Supported",
         "marker": {
          "color": "#EF553B",
          "pattern": {
           "shape": ""
          }
         },
         "name": "Supported",
         "offsetgroup": "Supported",
         "orientation": "h",
         "showlegend": true,
         "text": [
          "7",
          "4",
          "1",
          "14",
          "21",
          "7",
          "3",
          "2",
          "1",
          "4",
          "3",
          "7",
          "65"
         ],
         "textposition": "auto",
         "type": "bar",
         "x": [
          0.004244996967859308,
          0.019704433497536946,
          0.022727272727272728,
          0.023178807947019868,
          0.03129657228017884,
          0.03763440860215054,
          0.045454545454545456,
          0.07407407407407407,
          0.09090909090909091,
          0.10526315789473684,
          0.12,
          0.2,
          0.23897058823529413
         ],
         "xaxis": "x",
         "y": [
          "Others",
          "Sino-Tibetan",
          "Mande",
          "Austronesian",
          "Atlantic-Congo",
          "Afro-Asiatic",
          "Austroasiatic",
          "Tai-Kadai",
          "Eskimo-Aleut",
          "Dravidian",
          "Uralic",
          "Turkic",
          "Indo-European"
         ],
         "yaxis": "y"
        }
       ],
       "layout": {
        "barmode": "relative",
        "height": 600,
        "legend": {
         "title": {
          "text": "category"
         },
         "tracegroupgap": 0
        },
        "margin": {
         "t": 60
        },
        "template": {
         "data": {
          "bar": [
           {
            "error_x": {
             "color": "#2a3f5f"
            },
            "error_y": {
             "color": "#2a3f5f"
            },
            "marker": {
             "line": {
              "color": "#E5ECF6",
              "width": 0.5
             },
             "pattern": {
              "fillmode": "overlay",
              "size": 10,
              "solidity": 0.2
             }
            },
            "type": "bar"
           }
          ],
          "barpolar": [
           {
            "marker": {
             "line": {
              "color": "#E5ECF6",
              "width": 0.5
             },
             "pattern": {
              "fillmode": "overlay",
              "size": 10,
              "solidity": 0.2
             }
            },
            "type": "barpolar"
           }
          ],
          "carpet": [
           {
            "aaxis": {
             "endlinecolor": "#2a3f5f",
             "gridcolor": "white",
             "linecolor": "white",
             "minorgridcolor": "white",
             "startlinecolor": "#2a3f5f"
            },
            "baxis": {
             "endlinecolor": "#2a3f5f",
             "gridcolor": "white",
             "linecolor": "white",
             "minorgridcolor": "white",
             "startlinecolor": "#2a3f5f"
            },
            "type": "carpet"
           }
          ],
          "choropleth": [
           {
            "colorbar": {
             "outlinewidth": 0,
             "ticks": ""
            },
            "type": "choropleth"
           }
          ],
          "contour": [
           {
            "colorbar": {
             "outlinewidth": 0,
             "ticks": ""
            },
            "colorscale": [
             [
              0,
              "#0d0887"
             ],
             [
              0.1111111111111111,
              "#46039f"
             ],
             [
              0.2222222222222222,
              "#7201a8"
             ],
             [
              0.3333333333333333,
              "#9c179e"
             ],
             [
              0.4444444444444444,
              "#bd3786"
             ],
             [
              0.5555555555555556,
              "#d8576b"
             ],
             [
              0.6666666666666666,
              "#ed7953"
             ],
             [
              0.7777777777777778,
              "#fb9f3a"
             ],
             [
              0.8888888888888888,
              "#fdca26"
             ],
             [
              1,
              "#f0f921"
             ]
            ],
            "type": "contour"
           }
          ],
          "contourcarpet": [
           {
            "colorbar": {
             "outlinewidth": 0,
             "ticks": ""
            },
            "type": "contourcarpet"
           }
          ],
          "heatmap": [
           {
            "colorbar": {
             "outlinewidth": 0,
             "ticks": ""
            },
            "colorscale": [
             [
              0,
              "#0d0887"
             ],
             [
              0.1111111111111111,
              "#46039f"
             ],
             [
              0.2222222222222222,
              "#7201a8"
             ],
             [
              0.3333333333333333,
              "#9c179e"
             ],
             [
              0.4444444444444444,
              "#bd3786"
             ],
             [
              0.5555555555555556,
              "#d8576b"
             ],
             [
              0.6666666666666666,
              "#ed7953"
             ],
             [
              0.7777777777777778,
              "#fb9f3a"
             ],
             [
              0.8888888888888888,
              "#fdca26"
             ],
             [
              1,
              "#f0f921"
             ]
            ],
            "type": "heatmap"
           }
          ],
          "heatmapgl": [
           {
            "colorbar": {
             "outlinewidth": 0,
             "ticks": ""
            },
            "colorscale": [
             [
              0,
              "#0d0887"
             ],
             [
              0.1111111111111111,
              "#46039f"
             ],
             [
              0.2222222222222222,
              "#7201a8"
             ],
             [
              0.3333333333333333,
              "#9c179e"
             ],
             [
              0.4444444444444444,
              "#bd3786"
             ],
             [
              0.5555555555555556,
              "#d8576b"
             ],
             [
              0.6666666666666666,
              "#ed7953"
             ],
             [
              0.7777777777777778,
              "#fb9f3a"
             ],
             [
              0.8888888888888888,
              "#fdca26"
             ],
             [
              1,
              "#f0f921"
             ]
            ],
            "type": "heatmapgl"
           }
          ],
          "histogram": [
           {
            "marker": {
             "pattern": {
              "fillmode": "overlay",
              "size": 10,
              "solidity": 0.2
             }
            },
            "type": "histogram"
           }
          ],
          "histogram2d": [
           {
            "colorbar": {
             "outlinewidth": 0,
             "ticks": ""
            },
            "colorscale": [
             [
              0,
              "#0d0887"
             ],
             [
              0.1111111111111111,
              "#46039f"
             ],
             [
              0.2222222222222222,
              "#7201a8"
             ],
             [
              0.3333333333333333,
              "#9c179e"
             ],
             [
              0.4444444444444444,
              "#bd3786"
             ],
             [
              0.5555555555555556,
              "#d8576b"
             ],
             [
              0.6666666666666666,
              "#ed7953"
             ],
             [
              0.7777777777777778,
              "#fb9f3a"
             ],
             [
              0.8888888888888888,
              "#fdca26"
             ],
             [
              1,
              "#f0f921"
             ]
            ],
            "type": "histogram2d"
           }
          ],
          "histogram2dcontour": [
           {
            "colorbar": {
             "outlinewidth": 0,
             "ticks": ""
            },
            "colorscale": [
             [
              0,
              "#0d0887"
             ],
             [
              0.1111111111111111,
              "#46039f"
             ],
             [
              0.2222222222222222,
              "#7201a8"
             ],
             [
              0.3333333333333333,
              "#9c179e"
             ],
             [
              0.4444444444444444,
              "#bd3786"
             ],
             [
              0.5555555555555556,
              "#d8576b"
             ],
             [
              0.6666666666666666,
              "#ed7953"
             ],
             [
              0.7777777777777778,
              "#fb9f3a"
             ],
             [
              0.8888888888888888,
              "#fdca26"
             ],
             [
              1,
              "#f0f921"
             ]
            ],
            "type": "histogram2dcontour"
           }
          ],
          "mesh3d": [
           {
            "colorbar": {
             "outlinewidth": 0,
             "ticks": ""
            },
            "type": "mesh3d"
           }
          ],
          "parcoords": [
           {
            "line": {
             "colorbar": {
              "outlinewidth": 0,
              "ticks": ""
             }
            },
            "type": "parcoords"
           }
          ],
          "pie": [
           {
            "automargin": true,
            "type": "pie"
           }
          ],
          "scatter": [
           {
            "fillpattern": {
             "fillmode": "overlay",
             "size": 10,
             "solidity": 0.2
            },
            "type": "scatter"
           }
          ],
          "scatter3d": [
           {
            "line": {
             "colorbar": {
              "outlinewidth": 0,
              "ticks": ""
             }
            },
            "marker": {
             "colorbar": {
              "outlinewidth": 0,
              "ticks": ""
             }
            },
            "type": "scatter3d"
           }
          ],
          "scattercarpet": [
           {
            "marker": {
             "colorbar": {
              "outlinewidth": 0,
              "ticks": ""
             }
            },
            "type": "scattercarpet"
           }
          ],
          "scattergeo": [
           {
            "marker": {
             "colorbar": {
              "outlinewidth": 0,
              "ticks": ""
             }
            },
            "type": "scattergeo"
           }
          ],
          "scattergl": [
           {
            "marker": {
             "colorbar": {
              "outlinewidth": 0,
              "ticks": ""
             }
            },
            "type": "scattergl"
           }
          ],
          "scattermapbox": [
           {
            "marker": {
             "colorbar": {
              "outlinewidth": 0,
              "ticks": ""
             }
            },
            "type": "scattermapbox"
           }
          ],
          "scatterpolar": [
           {
            "marker": {
             "colorbar": {
              "outlinewidth": 0,
              "ticks": ""
             }
            },
            "type": "scatterpolar"
           }
          ],
          "scatterpolargl": [
           {
            "marker": {
             "colorbar": {
              "outlinewidth": 0,
              "ticks": ""
             }
            },
            "type": "scatterpolargl"
           }
          ],
          "scatterternary": [
           {
            "marker": {
             "colorbar": {
              "outlinewidth": 0,
              "ticks": ""
             }
            },
            "type": "scatterternary"
           }
          ],
          "surface": [
           {
            "colorbar": {
             "outlinewidth": 0,
             "ticks": ""
            },
            "colorscale": [
             [
              0,
              "#0d0887"
             ],
             [
              0.1111111111111111,
              "#46039f"
             ],
             [
              0.2222222222222222,
              "#7201a8"
             ],
             [
              0.3333333333333333,
              "#9c179e"
             ],
             [
              0.4444444444444444,
              "#bd3786"
             ],
             [
              0.5555555555555556,
              "#d8576b"
             ],
             [
              0.6666666666666666,
              "#ed7953"
             ],
             [
              0.7777777777777778,
              "#fb9f3a"
             ],
             [
              0.8888888888888888,
              "#fdca26"
             ],
             [
              1,
              "#f0f921"
             ]
            ],
            "type": "surface"
           }
          ],
          "table": [
           {
            "cells": {
             "fill": {
              "color": "#EBF0F8"
             },
             "line": {
              "color": "white"
             }
            },
            "header": {
             "fill": {
              "color": "#C8D4E3"
             },
             "line": {
              "color": "white"
             }
            },
            "type": "table"
           }
          ]
         },
         "layout": {
          "annotationdefaults": {
           "arrowcolor": "#2a3f5f",
           "arrowhead": 0,
           "arrowwidth": 1
          },
          "autotypenumbers": "strict",
          "coloraxis": {
           "colorbar": {
            "outlinewidth": 0,
            "ticks": ""
           }
          },
          "colorscale": {
           "diverging": [
            [
             0,
             "#8e0152"
            ],
            [
             0.1,
             "#c51b7d"
            ],
            [
             0.2,
             "#de77ae"
            ],
            [
             0.3,
             "#f1b6da"
            ],
            [
             0.4,
             "#fde0ef"
            ],
            [
             0.5,
             "#f7f7f7"
            ],
            [
             0.6,
             "#e6f5d0"
            ],
            [
             0.7,
             "#b8e186"
            ],
            [
             0.8,
             "#7fbc41"
            ],
            [
             0.9,
             "#4d9221"
            ],
            [
             1,
             "#276419"
            ]
           ],
           "sequential": [
            [
             0,
             "#0d0887"
            ],
            [
             0.1111111111111111,
             "#46039f"
            ],
            [
             0.2222222222222222,
             "#7201a8"
            ],
            [
             0.3333333333333333,
             "#9c179e"
            ],
            [
             0.4444444444444444,
             "#bd3786"
            ],
            [
             0.5555555555555556,
             "#d8576b"
            ],
            [
             0.6666666666666666,
             "#ed7953"
            ],
            [
             0.7777777777777778,
             "#fb9f3a"
            ],
            [
             0.8888888888888888,
             "#fdca26"
            ],
            [
             1,
             "#f0f921"
            ]
           ],
           "sequentialminus": [
            [
             0,
             "#0d0887"
            ],
            [
             0.1111111111111111,
             "#46039f"
            ],
            [
             0.2222222222222222,
             "#7201a8"
            ],
            [
             0.3333333333333333,
             "#9c179e"
            ],
            [
             0.4444444444444444,
             "#bd3786"
            ],
            [
             0.5555555555555556,
             "#d8576b"
            ],
            [
             0.6666666666666666,
             "#ed7953"
            ],
            [
             0.7777777777777778,
             "#fb9f3a"
            ],
            [
             0.8888888888888888,
             "#fdca26"
            ],
            [
             1,
             "#f0f921"
            ]
           ]
          },
          "colorway": [
           "#636efa",
           "#EF553B",
           "#00cc96",
           "#ab63fa",
           "#FFA15A",
           "#19d3f3",
           "#FF6692",
           "#B6E880",
           "#FF97FF",
           "#FECB52"
          ],
          "font": {
           "color": "#2a3f5f"
          },
          "geo": {
           "bgcolor": "white",
           "lakecolor": "white",
           "landcolor": "#E5ECF6",
           "showlakes": true,
           "showland": true,
           "subunitcolor": "white"
          },
          "hoverlabel": {
           "align": "left"
          },
          "hovermode": "closest",
          "mapbox": {
           "style": "light"
          },
          "paper_bgcolor": "white",
          "plot_bgcolor": "#E5ECF6",
          "polar": {
           "angularaxis": {
            "gridcolor": "white",
            "linecolor": "white",
            "ticks": ""
           },
           "bgcolor": "#E5ECF6",
           "radialaxis": {
            "gridcolor": "white",
            "linecolor": "white",
            "ticks": ""
           }
          },
          "scene": {
           "xaxis": {
            "backgroundcolor": "#E5ECF6",
            "gridcolor": "white",
            "gridwidth": 2,
            "linecolor": "white",
            "showbackground": true,
            "ticks": "",
            "zerolinecolor": "white"
           },
           "yaxis": {
            "backgroundcolor": "#E5ECF6",
            "gridcolor": "white",
            "gridwidth": 2,
            "linecolor": "white",
            "showbackground": true,
            "ticks": "",
            "zerolinecolor": "white"
           },
           "zaxis": {
            "backgroundcolor": "#E5ECF6",
            "gridcolor": "white",
            "gridwidth": 2,
            "linecolor": "white",
            "showbackground": true,
            "ticks": "",
            "zerolinecolor": "white"
           }
          },
          "shapedefaults": {
           "line": {
            "color": "#2a3f5f"
           }
          },
          "ternary": {
           "aaxis": {
            "gridcolor": "white",
            "linecolor": "white",
            "ticks": ""
           },
           "baxis": {
            "gridcolor": "white",
            "linecolor": "white",
            "ticks": ""
           },
           "bgcolor": "#E5ECF6",
           "caxis": {
            "gridcolor": "white",
            "linecolor": "white",
            "ticks": ""
           }
          },
          "title": {
           "x": 0.05
          },
          "xaxis": {
           "automargin": true,
           "gridcolor": "white",
           "linecolor": "white",
           "ticks": "",
           "title": {
            "standoff": 15
           },
           "zerolinecolor": "white",
           "zerolinewidth": 2
          },
          "yaxis": {
           "automargin": true,
           "gridcolor": "white",
           "linecolor": "white",
           "ticks": "",
           "title": {
            "standoff": 15
           },
           "zerolinecolor": "white",
           "zerolinewidth": 2
          }
         }
        },
        "width": 600,
        "xaxis": {
         "anchor": "y",
         "autorange": true,
         "domain": [
          0,
          1
         ],
         "range": [
          0,
          1.0526315789473684
         ],
         "title": {
          "text": "percent"
         },
         "type": "linear"
        },
        "yaxis": {
         "anchor": "x",
         "autorange": true,
         "domain": [
          0,
          1
         ],
         "range": [
          -0.5,
          12.5
         ],
         "title": {
          "text": "fam_group"
         },
         "type": "category"
        }
       }
      },
      "image/png": "[encoded data removed]",
      "text/html": [
       "<div>                            <div id=\"b04fdcf3-5e3c-4b01-b94b-4e2b7d7da020\" class=\"plotly-graph-div\" style=\"height:600px; width:600px;\"></div>            <script type=\"text/javascript\">                require([\"plotly\"], function(Plotly) {                    window.PLOTLYENV=window.PLOTLYENV || {};                                    if (document.getElementById(\"b04fdcf3-5e3c-4b01-b94b-4e2b7d7da020\")) {                    Plotly.newPlot(                        \"b04fdcf3-5e3c-4b01-b94b-4e2b7d7da020\",                        [{\"alignmentgroup\":\"True\",\"hovertemplate\":\"category=Not Supported\\u003cbr\\u003epercent=%{x}\\u003cbr\\u003efam_group=%{y}\\u003cbr\\u003etext=%{text}\\u003cextra\\u003e\\u003c\\u002fextra\\u003e\",\"legendgroup\":\"Not Supported\",\"marker\":{\"color\":\"#636efa\",\"pattern\":{\"shape\":\"\"}},\"name\":\"Not Supported\",\"offsetgroup\":\"Not Supported\",\"orientation\":\"h\",\"showlegend\":true,\"text\":[\"1642 (99.58%)\",\"199 (98.03%)\",\"43 (97.73%)\",\"590 (97.68%)\",\"650 (96.87%)\",\"179 (96.24%)\",\"63 (95.45%)\",\"25 (92.59%)\",\"10 (90.91%)\",\"34 (89.47%)\",\"22 (88.00%)\",\"28 (80.00%)\",\"207 (76.10%)\"],\"textposition\":\"auto\",\"x\":[0.9957550030321407,0.9802955665024631,0.9772727272727273,0.9768211920529801,0.9687034277198212,0.9623655913978495,0.9545454545454546,0.9259259259259259,0.9090909090909091,0.8947368421052632,0.88,0.8,0.7610294117647058],\"xaxis\":\"x\",\"y\":[\"Others\",\"Sino-Tibetan\",\"Mande\",\"Austronesian\",\"Atlantic-Congo\",\"Afro-Asiatic\",\"Austroasiatic\",\"Tai-Kadai\",\"Eskimo-Aleut\",\"Dravidian\",\"Uralic\",\"Turkic\",\"Indo-European\"],\"yaxis\":\"y\",\"type\":\"bar\"},{\"alignmentgroup\":\"True\",\"hovertemplate\":\"category=Supported\\u003cbr\\u003epercent=%{x}\\u003cbr\\u003efam_group=%{y}\\u003cbr\\u003etext=%{text}\\u003cextra\\u003e\\u003c\\u002fextra\\u003e\",\"legendgroup\":\"Supported\",\"marker\":{\"color\":\"#EF553B\",\"pattern\":{\"shape\":\"\"}},\"name\":\"Supported\",\"offsetgroup\":\"Supported\",\"orientation\":\"h\",\"showlegend\":true,\"text\":[\"7\",\"4\",\"1\",\"14\",\"21\",\"7\",\"3\",\"2\",\"1\",\"4\",\"3\",\"7\",\"65\"],\"textposition\":\"auto\",\"x\":[0.004244996967859308,0.019704433497536946,0.022727272727272728,0.023178807947019868,0.03129657228017884,0.03763440860215054,0.045454545454545456,0.07407407407407407,0.09090909090909091,0.10526315789473684,0.12,0.2,0.23897058823529413],\"xaxis\":\"x\",\"y\":[\"Others\",\"Sino-Tibetan\",\"Mande\",\"Austronesian\",\"Atlantic-Congo\",\"Afro-Asiatic\",\"Austroasiatic\",\"Tai-Kadai\",\"Eskimo-Aleut\",\"Dravidian\",\"Uralic\",\"Turkic\",\"Indo-European\"],\"yaxis\":\"y\",\"type\":\"bar\"}],                        {\"template\":{\"data\":{\"histogram2dcontour\":[{\"type\":\"histogram2dcontour\",\"colorbar\":{\"outlinewidth\":0,\"ticks\":\"\"},\"colorscale\":[[0.0,\"#0d0887\"],[0.1111111111111111,\"#46039f\"],[0.2222222222222222,\"#7201a8\"],[0.3333333333333333,\"#9c179e\"],[0.4444444444444444,\"#bd3786\"],[0.5555555555555556,\"#d8576b\"],[0.6666666666666666,\"#ed7953\"],[0.7777777777777778,\"#fb9f3a\"],[0.8888888888888888,\"#fdca26\"],[1.0,\"#f0f921\"]]}],\"choropleth\":[{\"type\":\"choropleth\",\"colorbar\":{\"outlinewidth\":0,\"ticks\":\"\"}}],\"histogram2d\":[{\"type\":\"histogram2d\",\"colorbar\":{\"outlinewidth\":0,\"ticks\":\"\"},\"colorscale\":[[0.0,\"#0d0887\"],[0.1111111111111111,\"#46039f\"],[0.2222222222222222,\"#7201a8\"],[0.3333333333333333,\"#9c179e\"],[0.4444444444444444,\"#bd3786\"],[0.5555555555555556,\"#d8576b\"],[0.6666666666666666,\"#ed7953\"],[0.7777777777777778,\"#fb9f3a\"],[0.8888888888888888,\"#fdca26\"],[1.0,\"#f0f921\"]]}],\"heatmap\":[{\"type\":\"heatmap\",\"colorbar\":{\"outlinewidth\":0,\"ticks\":\"\"},\"colorscale\":[[0.0,\"#0d0887\"],[0.1111111111111111,\"#46039f\"],[0.2222222222222222,\"#7201a8\"],[0.3333333333333333,\"#9c179e\"],[0.4444444444444444,\"#bd3786\"],[0.5555555555555556,\"#d8576b\"],[0.6666666666666666,\"#ed7953\"],[0.7777777777777778,\"#fb9f3a\"],[0.8888888888888888,\"#fdca26\"],[1.0,\"#f0f921\"]]}],\"heatmapgl\":[{\"type\":\"heatmapgl\",\"colorbar\":{\"outlinewidth\":0,\"ticks\":\"\"},\"colorscale\":[[0.0,\"#0d0887\"],[0.1111111111111111,\"#46039f\"],[0.2222222222222222,\"#7201a8\"],[0.3333333333333333,\"#9c179e\"],[0.4444444444444444,\"#bd3786\"],[0.5555555555555556,\"#d8576b\"],[0.6666666666666666,\"#ed7953\"],[0.7777777777777778,\"#fb9f3a\"],[0.8888888888888888,\"#fdca26\"],[1.0,\"#f0f921\"]]}],\"contourcarpet\":[{\"type\":\"contourcarpet\",\"colorbar\":{\"outlinewidth\":0,\"ticks\":\"\"}}],\"contour\":[{\"type\":\"contour\",\"colorbar\":{\"outlinewidth\":0,\"ticks\":\"\"},\"colorscale\":[[0.0,\"#0d0887\"],[0.1111111111111111,\"#46039f\"],[0.2222222222222222,\"#7201a8\"],[0.3333333333333333,\"#9c179e\"],[0.4444444444444444,\"#bd3786\"],[0.5555555555555556,\"#d8576b\"],[0.6666666666666666,\"#ed7953\"],[0.7777777777777778,\"#fb9f3a\"],[0.8888888888888888,\"#fdca26\"],[1.0,\"#f0f921\"]]}],\"surface\":[{\"type\":\"surface\",\"colorbar\":{\"outlinewidth\":0,\"ticks\":\"\"},\"colorscale\":[[0.0,\"#0d0887\"],[0.1111111111111111,\"#46039f\"],[0.2222222222222222,\"#7201a8\"],[0.3333333333333333,\"#9c179e\"],[0.4444444444444444,\"#bd3786\"],[0.5555555555555556,\"#d8576b\"],[0.6666666666666666,\"#ed7953\"],[0.7777777777777778,\"#fb9f3a\"],[0.8888888888888888,\"#fdca26\"],[1.0,\"#f0f921\"]]}],\"mesh3d\":[{\"type\":\"mesh3d\",\"colorbar\":{\"outlinewidth\":0,\"ticks\":\"\"}}],\"scatter\":[{\"fillpattern\":{\"fillmode\":\"overlay\",\"size\":10,\"solidity\":0.2},\"type\":\"scatter\"}],\"parcoords\":[{\"type\":\"parcoords\",\"line\":{\"colorbar\":{\"outlinewidth\":0,\"ticks\":\"\"}}}],\"scatterpolargl\":[{\"type\":\"scatterpolargl\",\"marker\":{\"colorbar\":{\"outlinewidth\":0,\"ticks\":\"\"}}}],\"bar\":[{\"error_x\":{\"color\":\"#2a3f5f\"},\"error_y\":{\"color\":\"#2a3f5f\"},\"marker\":{\"line\":{\"color\":\"#E5ECF6\",\"width\":0.5},\"pattern\":{\"fillmode\":\"overlay\",\"size\":10,\"solidity\":0.2}},\"type\":\"bar\"}],\"scattergeo\":[{\"type\":\"scattergeo\",\"marker\":{\"colorbar\":{\"outlinewidth\":0,\"ticks\":\"\"}}}],\"scatterpolar\":[{\"type\":\"scatterpolar\",\"marker\":{\"colorbar\":{\"outlinewidth\":0,\"ticks\":\"\"}}}],\"histogram\":[{\"marker\":{\"pattern\":{\"fillmode\":\"overlay\",\"size\":10,\"solidity\":0.2}},\"type\":\"histogram\"}],\"scattergl\":[{\"type\":\"scattergl\",\"marker\":{\"colorbar\":{\"outlinewidth\":0,\"ticks\":\"\"}}}],\"scatter3d\":[{\"type\":\"scatter3d\",\"line\":{\"colorbar\":{\"outlinewidth\":0,\"ticks\":\"\"}},\"marker\":{\"colorbar\":{\"outlinewidth\":0,\"ticks\":\"\"}}}],\"scattermapbox\":[{\"type\":\"scattermapbox\",\"marker\":{\"colorbar\":{\"outlinewidth\":0,\"ticks\":\"\"}}}],\"scatterternary\":[{\"type\":\"scatterternary\",\"marker\":{\"colorbar\":{\"outlinewidth\":0,\"ticks\":\"\"}}}],\"scattercarpet\":[{\"type\":\"scattercarpet\",\"marker\":{\"colorbar\":{\"outlinewidth\":0,\"ticks\":\"\"}}}],\"carpet\":[{\"aaxis\":{\"endlinecolor\":\"#2a3f5f\",\"gridcolor\":\"white\",\"linecolor\":\"white\",\"minorgridcolor\":\"white\",\"startlinecolor\":\"#2a3f5f\"},\"baxis\":{\"endlinecolor\":\"#2a3f5f\",\"gridcolor\":\"white\",\"linecolor\":\"white\",\"minorgridcolor\":\"white\",\"startlinecolor\":\"#2a3f5f\"},\"type\":\"carpet\"}],\"table\":[{\"cells\":{\"fill\":{\"color\":\"#EBF0F8\"},\"line\":{\"color\":\"white\"}},\"header\":{\"fill\":{\"color\":\"#C8D4E3\"},\"line\":{\"color\":\"white\"}},\"type\":\"table\"}],\"barpolar\":[{\"marker\":{\"line\":{\"color\":\"#E5ECF6\",\"width\":0.5},\"pattern\":{\"fillmode\":\"overlay\",\"size\":10,\"solidity\":0.2}},\"type\":\"barpolar\"}],\"pie\":[{\"automargin\":true,\"type\":\"pie\"}]},\"layout\":{\"autotypenumbers\":\"strict\",\"colorway\":[\"#636efa\",\"#EF553B\",\"#00cc96\",\"#ab63fa\",\"#FFA15A\",\"#19d3f3\",\"#FF6692\",\"#B6E880\",\"#FF97FF\",\"#FECB52\"],\"font\":{\"color\":\"#2a3f5f\"},\"hovermode\":\"closest\",\"hoverlabel\":{\"align\":\"left\"},\"paper_bgcolor\":\"white\",\"plot_bgcolor\":\"#E5ECF6\",\"polar\":{\"bgcolor\":\"#E5ECF6\",\"angularaxis\":{\"gridcolor\":\"white\",\"linecolor\":\"white\",\"ticks\":\"\"},\"radialaxis\":{\"gridcolor\":\"white\",\"linecolor\":\"white\",\"ticks\":\"\"}},\"ternary\":{\"bgcolor\":\"#E5ECF6\",\"aaxis\":{\"gridcolor\":\"white\",\"linecolor\":\"white\",\"ticks\":\"\"},\"baxis\":{\"gridcolor\":\"white\",\"linecolor\":\"white\",\"ticks\":\"\"},\"caxis\":{\"gridcolor\":\"white\",\"linecolor\":\"white\",\"ticks\":\"\"}},\"coloraxis\":{\"colorbar\":{\"outlinewidth\":0,\"ticks\":\"\"}},\"colorscale\":{\"sequential\":[[0.0,\"#0d0887\"],[0.1111111111111111,\"#46039f\"],[0.2222222222222222,\"#7201a8\"],[0.3333333333333333,\"#9c179e\"],[0.4444444444444444,\"#bd3786\"],[0.5555555555555556,\"#d8576b\"],[0.6666666666666666,\"#ed7953\"],[0.7777777777777778,\"#fb9f3a\"],[0.8888888888888888,\"#fdca26\"],[1.0,\"#f0f921\"]],\"sequentialminus\":[[0.0,\"#0d0887\"],[0.1111111111111111,\"#46039f\"],[0.2222222222222222,\"#7201a8\"],[0.3333333333333333,\"#9c179e\"],[0.4444444444444444,\"#bd3786\"],[0.5555555555555556,\"#d8576b\"],[0.6666666666666666,\"#ed7953\"],[0.7777777777777778,\"#fb9f3a\"],[0.8888888888888888,\"#fdca26\"],[1.0,\"#f0f921\"]],\"diverging\":[[0,\"#8e0152\"],[0.1,\"#c51b7d\"],[0.2,\"#de77ae\"],[0.3,\"#f1b6da\"],[0.4,\"#fde0ef\"],[0.5,\"#f7f7f7\"],[0.6,\"#e6f5d0\"],[0.7,\"#b8e186\"],[0.8,\"#7fbc41\"],[0.9,\"#4d9221\"],[1,\"#276419\"]]},\"xaxis\":{\"gridcolor\":\"white\",\"linecolor\":\"white\",\"ticks\":\"\",\"title\":{\"standoff\":15},\"zerolinecolor\":\"white\",\"automargin\":true,\"zerolinewidth\":2},\"yaxis\":{\"gridcolor\":\"white\",\"linecolor\":\"white\",\"ticks\":\"\",\"title\":{\"standoff\":15},\"zerolinecolor\":\"white\",\"automargin\":true,\"zerolinewidth\":2},\"scene\":{\"xaxis\":{\"backgroundcolor\":\"#E5ECF6\",\"gridcolor\":\"white\",\"linecolor\":\"white\",\"showbackground\":true,\"ticks\":\"\",\"zerolinecolor\":\"white\",\"gridwidth\":2},\"yaxis\":{\"backgroundcolor\":\"#E5ECF6\",\"gridcolor\":\"white\",\"linecolor\":\"white\",\"showbackground\":true,\"ticks\":\"\",\"zerolinecolor\":\"white\",\"gridwidth\":2},\"zaxis\":{\"backgroundcolor\":\"#E5ECF6\",\"gridcolor\":\"white\",\"linecolor\":\"white\",\"showbackground\":true,\"ticks\":\"\",\"zerolinecolor\":\"white\",\"gridwidth\":2}},\"shapedefaults\":{\"line\":{\"color\":\"#2a3f5f\"}},\"annotationdefaults\":{\"arrowcolor\":\"#2a3f5f\",\"arrowhead\":0,\"arrowwidth\":1},\"geo\":{\"bgcolor\":\"white\",\"landcolor\":\"#E5ECF6\",\"subunitcolor\":\"white\",\"showland\":true,\"showlakes\":true,\"lakecolor\":\"white\"},\"title\":{\"x\":0.05},\"mapbox\":{\"style\":\"light\"}}},\"xaxis\":{\"anchor\":\"y\",\"domain\":[0.0,1.0],\"title\":{\"text\":\"percent\"}},\"yaxis\":{\"anchor\":\"x\",\"domain\":[0.0,1.0],\"title\":{\"text\":\"fam_group\"}},\"legend\":{\"title\":{\"text\":\"category\"},\"tracegroupgap\":0},\"margin\":{\"t\":60},\"barmode\":\"relative\",\"height\":600,\"width\":600},                        {\"responsive\": true}                    ).then(function(){\n",
       "                            \n",
       "var gd = document.getElementById('b04fdcf3-5e3c-4b01-b94b-4e2b7d7da020');\n",
       "var x = new MutationObserver(function (mutations, observer) {{\n",
       "        var display = window.getComputedStyle(gd).display;\n",
       "        if (!display || display === 'none') {{\n",
       "            console.log([gd, 'removed!']);\n",
       "            Plotly.purge(gd);\n",
       "            observer.disconnect();\n",
       "        }}\n",
       "}});\n",
       "\n",
       "// Listen for the removal of the full notebook cells\n",
       "var notebookContainer = gd.closest('#notebook-container');\n",
       "if (notebookContainer) {{\n",
       "    x.observe(notebookContainer, {childList: true});\n",
       "}}\n",
       "\n",
       "// Listen for the clearing of the current output cell\n",
       "var outputEl = gd.closest('.output');\n",
       "if (outputEl) {{\n",
       "    x.observe(outputEl, {childList: true});\n",
       "}}\n",
       "\n",
       "                        })                };                });            </script>        </div>"
      ]
     },
     "metadata": {},
     "output_type": "display_data"
    }
   ],
   "source": [
    "import plotly.express as px\n",
    "\n",
    "fig = px.bar(\n",
    "    fc_df.sort_values(['category', 'fam_order'], ascending=[True, False]), \n",
    "y=\"fam_group\", x='percent', color=\"category\", text=\"text\", width=600, height=600)\n",
    "fig.show()"
   ]
  },
  {
   "cell_type": "code",
   "execution_count": 177,
   "metadata": {},
   "outputs": [],
   "source": [
    "fc_df.to_csv('aggregate_lang_fam_data.csv')"
   ]
  },
  {
   "cell_type": "code",
   "execution_count": 67,
   "metadata": {},
   "outputs": [
    {
     "data": {
      "text/html": [
       "<div>\n",
       "<style scoped>\n",
       "    .dataframe tbody tr th:only-of-type {\n",
       "        vertical-align: middle;\n",
       "    }\n",
       "\n",
       "    .dataframe tbody tr th {\n",
       "        vertical-align: top;\n",
       "    }\n",
       "\n",
       "    .dataframe thead th {\n",
       "        text-align: right;\n",
       "    }\n",
       "</style>\n",
       "<table border=\"1\" class=\"dataframe\">\n",
       "  <thead>\n",
       "    <tr style=\"text-align: right;\">\n",
       "      <th></th>\n",
       "      <th>fam_group</th>\n",
       "      <th>category</th>\n",
       "      <th>0</th>\n",
       "      <th>sum</th>\n",
       "      <th>percent</th>\n",
       "    </tr>\n",
       "  </thead>\n",
       "  <tbody>\n",
       "    <tr>\n",
       "      <th>1</th>\n",
       "      <td>Afro-Asiatic</td>\n",
       "      <td>Supported</td>\n",
       "      <td>7</td>\n",
       "      <td>186</td>\n",
       "      <td>0.037634</td>\n",
       "    </tr>\n",
       "    <tr>\n",
       "      <th>4</th>\n",
       "      <td>Atlantic-Congo</td>\n",
       "      <td>Supported</td>\n",
       "      <td>21</td>\n",
       "      <td>671</td>\n",
       "      <td>0.031297</td>\n",
       "    </tr>\n",
       "    <tr>\n",
       "      <th>6</th>\n",
       "      <td>Austroasiatic</td>\n",
       "      <td>Supported</td>\n",
       "      <td>3</td>\n",
       "      <td>66</td>\n",
       "      <td>0.045455</td>\n",
       "    </tr>\n",
       "    <tr>\n",
       "      <th>8</th>\n",
       "      <td>Austronesian</td>\n",
       "      <td>Supported</td>\n",
       "      <td>14</td>\n",
       "      <td>604</td>\n",
       "      <td>0.023179</td>\n",
       "    </tr>\n",
       "    <tr>\n",
       "      <th>10</th>\n",
       "      <td>Indo-European</td>\n",
       "      <td>Supported</td>\n",
       "      <td>65</td>\n",
       "      <td>272</td>\n",
       "      <td>0.238971</td>\n",
       "    </tr>\n",
       "    <tr>\n",
       "      <th>12</th>\n",
       "      <td>Mande</td>\n",
       "      <td>Supported</td>\n",
       "      <td>1</td>\n",
       "      <td>44</td>\n",
       "      <td>0.022727</td>\n",
       "    </tr>\n",
       "    <tr>\n",
       "      <th>15</th>\n",
       "      <td>Others</td>\n",
       "      <td>Supported</td>\n",
       "      <td>24</td>\n",
       "      <td>1210</td>\n",
       "      <td>0.019835</td>\n",
       "    </tr>\n",
       "    <tr>\n",
       "      <th>20</th>\n",
       "      <td>Sino-Tibetan</td>\n",
       "      <td>Supported</td>\n",
       "      <td>4</td>\n",
       "      <td>203</td>\n",
       "      <td>0.019704</td>\n",
       "    </tr>\n",
       "    <tr>\n",
       "      <th>0</th>\n",
       "      <td>Afro-Asiatic</td>\n",
       "      <td>Not Supported</td>\n",
       "      <td>179</td>\n",
       "      <td>186</td>\n",
       "      <td>0.962366</td>\n",
       "    </tr>\n",
       "    <tr>\n",
       "      <th>2</th>\n",
       "      <td>Arawakan</td>\n",
       "      <td>Not Supported</td>\n",
       "      <td>49</td>\n",
       "      <td>49</td>\n",
       "      <td>1.000000</td>\n",
       "    </tr>\n",
       "    <tr>\n",
       "      <th>3</th>\n",
       "      <td>Atlantic-Congo</td>\n",
       "      <td>Not Supported</td>\n",
       "      <td>650</td>\n",
       "      <td>671</td>\n",
       "      <td>0.968703</td>\n",
       "    </tr>\n",
       "    <tr>\n",
       "      <th>5</th>\n",
       "      <td>Austroasiatic</td>\n",
       "      <td>Not Supported</td>\n",
       "      <td>63</td>\n",
       "      <td>66</td>\n",
       "      <td>0.954545</td>\n",
       "    </tr>\n",
       "    <tr>\n",
       "      <th>7</th>\n",
       "      <td>Austronesian</td>\n",
       "      <td>Not Supported</td>\n",
       "      <td>590</td>\n",
       "      <td>604</td>\n",
       "      <td>0.976821</td>\n",
       "    </tr>\n",
       "    <tr>\n",
       "      <th>9</th>\n",
       "      <td>Indo-European</td>\n",
       "      <td>Not Supported</td>\n",
       "      <td>207</td>\n",
       "      <td>272</td>\n",
       "      <td>0.761029</td>\n",
       "    </tr>\n",
       "    <tr>\n",
       "      <th>11</th>\n",
       "      <td>Mande</td>\n",
       "      <td>Not Supported</td>\n",
       "      <td>43</td>\n",
       "      <td>44</td>\n",
       "      <td>0.977273</td>\n",
       "    </tr>\n",
       "    <tr>\n",
       "      <th>13</th>\n",
       "      <td>Nuclear Trans New Guinea</td>\n",
       "      <td>Not Supported</td>\n",
       "      <td>155</td>\n",
       "      <td>155</td>\n",
       "      <td>1.000000</td>\n",
       "    </tr>\n",
       "    <tr>\n",
       "      <th>14</th>\n",
       "      <td>Others</td>\n",
       "      <td>Not Supported</td>\n",
       "      <td>1186</td>\n",
       "      <td>1210</td>\n",
       "      <td>0.980165</td>\n",
       "    </tr>\n",
       "    <tr>\n",
       "      <th>16</th>\n",
       "      <td>Otomanguean</td>\n",
       "      <td>Not Supported</td>\n",
       "      <td>100</td>\n",
       "      <td>100</td>\n",
       "      <td>1.000000</td>\n",
       "    </tr>\n",
       "    <tr>\n",
       "      <th>17</th>\n",
       "      <td>Pama-Nyungan</td>\n",
       "      <td>Not Supported</td>\n",
       "      <td>113</td>\n",
       "      <td>113</td>\n",
       "      <td>1.000000</td>\n",
       "    </tr>\n",
       "    <tr>\n",
       "      <th>18</th>\n",
       "      <td>Sign Language</td>\n",
       "      <td>Not Supported</td>\n",
       "      <td>55</td>\n",
       "      <td>55</td>\n",
       "      <td>1.000000</td>\n",
       "    </tr>\n",
       "    <tr>\n",
       "      <th>19</th>\n",
       "      <td>Sino-Tibetan</td>\n",
       "      <td>Not Supported</td>\n",
       "      <td>199</td>\n",
       "      <td>203</td>\n",
       "      <td>0.980296</td>\n",
       "    </tr>\n",
       "    <tr>\n",
       "      <th>21</th>\n",
       "      <td>Tupian</td>\n",
       "      <td>Not Supported</td>\n",
       "      <td>57</td>\n",
       "      <td>57</td>\n",
       "      <td>1.000000</td>\n",
       "    </tr>\n",
       "    <tr>\n",
       "      <th>22</th>\n",
       "      <td>Uto-Aztecan</td>\n",
       "      <td>Not Supported</td>\n",
       "      <td>46</td>\n",
       "      <td>46</td>\n",
       "      <td>1.000000</td>\n",
       "    </tr>\n",
       "  </tbody>\n",
       "</table>\n",
       "</div>"
      ],
      "text/plain": [
       "                   fam_group       category     0   sum   percent\n",
       "1               Afro-Asiatic      Supported     7   186  0.037634\n",
       "4             Atlantic-Congo      Supported    21   671  0.031297\n",
       "6              Austroasiatic      Supported     3    66  0.045455\n",
       "8               Austronesian      Supported    14   604  0.023179\n",
       "10             Indo-European      Supported    65   272  0.238971\n",
       "12                     Mande      Supported     1    44  0.022727\n",
       "15                    Others      Supported    24  1210  0.019835\n",
       "20              Sino-Tibetan      Supported     4   203  0.019704\n",
       "0               Afro-Asiatic  Not Supported   179   186  0.962366\n",
       "2                   Arawakan  Not Supported    49    49  1.000000\n",
       "3             Atlantic-Congo  Not Supported   650   671  0.968703\n",
       "5              Austroasiatic  Not Supported    63    66  0.954545\n",
       "7               Austronesian  Not Supported   590   604  0.976821\n",
       "9              Indo-European  Not Supported   207   272  0.761029\n",
       "11                     Mande  Not Supported    43    44  0.977273\n",
       "13  Nuclear Trans New Guinea  Not Supported   155   155  1.000000\n",
       "14                    Others  Not Supported  1186  1210  0.980165\n",
       "16               Otomanguean  Not Supported   100   100  1.000000\n",
       "17              Pama-Nyungan  Not Supported   113   113  1.000000\n",
       "18             Sign Language  Not Supported    55    55  1.000000\n",
       "19              Sino-Tibetan  Not Supported   199   203  0.980296\n",
       "21                    Tupian  Not Supported    57    57  1.000000\n",
       "22               Uto-Aztecan  Not Supported    46    46  1.000000"
      ]
     },
     "execution_count": 67,
     "metadata": {},
     "output_type": "execute_result"
    }
   ],
   "source": [
    "fc_df.sort_values(['category','fam_group', 'percent'], ascending=[False, True, False])"
   ]
  },
  {
   "cell_type": "code",
   "execution_count": null,
   "metadata": {},
   "outputs": [],
   "source": []
  }
 ],
 "metadata": {
  "kernelspec": {
   "display_name": "Python (env_instruct_align)",
   "language": "python",
   "name": "env_instruct_align"
  },
  "language_info": {
   "codemirror_mode": {
    "name": "ipython",
    "version": 3
   },
   "file_extension": ".py",
   "mimetype": "text/x-python",
   "name": "python",
   "nbconvert_exporter": "python",
   "pygments_lexer": "ipython3",
   "version": "3.10.4"
  }
 },
 "nbformat": 4,
 "nbformat_minor": 4
}
